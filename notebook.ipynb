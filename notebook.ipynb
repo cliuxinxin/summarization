# 安装依靠
!pip install -r requirements.txt

# 连接google drive
from google.colab import drive
drive.mount('/content/gdrive')

# 设定工作文件夹
import os
os.chdir('/content/gdrive/My Drive/Colab Notebooks/')

# 下载数据
!wget https://s3.amazonaws.com/opennmt-models/Summary/cnndm.tar.gz
!wget https://apache-mxnet.s3.cn-north-1.amazonaws.com.cn/gluon/embeddings/glove/glove.twitter.27B.zip

# 解压文件
!tar -xvf cnndm.tar.gz
!unzip glove.twitter.27B.zip

# 拷贝文件到data
!cp -r cnndm/data .
